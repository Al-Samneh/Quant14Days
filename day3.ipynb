{
 "cells": [
  {
   "cell_type": "markdown",
   "id": "d661b3c1",
   "metadata": {},
   "source": [
    "# Oil Price Stationarity & Autocorrelation"
   ]
  },
  {
   "cell_type": "code",
   "execution_count": 14,
   "id": "81c29ef6",
   "metadata": {},
   "outputs": [],
   "source": [
    "import kagglehub\n",
    "import numpy as np\n",
    "import pandas as pd\n",
    "import matplotlib.pyplot as plt\n",
    "from scipy import stats\n",
    "import random\n",
    "import warnings\n",
    "import statsmodels.api as sm\n",
    "\n",
    "warnings.filterwarnings('ignore')"
   ]
  },
  {
   "cell_type": "code",
   "execution_count": 15,
   "id": "0acfc23f",
   "metadata": {},
   "outputs": [
    {
     "data": {
      "text/html": [
       "<div>\n",
       "<style scoped>\n",
       "    .dataframe tbody tr th:only-of-type {\n",
       "        vertical-align: middle;\n",
       "    }\n",
       "\n",
       "    .dataframe tbody tr th {\n",
       "        vertical-align: top;\n",
       "    }\n",
       "\n",
       "    .dataframe thead th {\n",
       "        text-align: right;\n",
       "    }\n",
       "</style>\n",
       "<table border=\"1\" class=\"dataframe\">\n",
       "  <thead>\n",
       "    <tr style=\"text-align: right;\">\n",
       "      <th></th>\n",
       "      <th>date</th>\n",
       "      <th>oil_brent</th>\n",
       "      <th>oil_dubai</th>\n",
       "      <th>coffee_arabica</th>\n",
       "      <th>coffee_robustas</th>\n",
       "      <th>tea_columbo</th>\n",
       "      <th>tea_kolkata</th>\n",
       "      <th>tea_mombasa</th>\n",
       "      <th>sugar_eu</th>\n",
       "      <th>sugar_us</th>\n",
       "      <th>sugar_world</th>\n",
       "    </tr>\n",
       "  </thead>\n",
       "  <tbody>\n",
       "    <tr>\n",
       "      <th>0</th>\n",
       "      <td>1960-01-01</td>\n",
       "      <td>1.63</td>\n",
       "      <td>1.63</td>\n",
       "      <td>0.9409</td>\n",
       "      <td>0.696864</td>\n",
       "      <td>0.930301</td>\n",
       "      <td>1.121401</td>\n",
       "      <td>1.0374</td>\n",
       "      <td>0.122356</td>\n",
       "      <td>0.116845</td>\n",
       "      <td>0.0666</td>\n",
       "    </tr>\n",
       "    <tr>\n",
       "      <th>1</th>\n",
       "      <td>1960-02-01</td>\n",
       "      <td>1.63</td>\n",
       "      <td>1.63</td>\n",
       "      <td>0.9469</td>\n",
       "      <td>0.688707</td>\n",
       "      <td>0.930301</td>\n",
       "      <td>1.121401</td>\n",
       "      <td>1.0374</td>\n",
       "      <td>0.122356</td>\n",
       "      <td>0.119049</td>\n",
       "      <td>0.0679</td>\n",
       "    </tr>\n",
       "    <tr>\n",
       "      <th>2</th>\n",
       "      <td>1960-03-01</td>\n",
       "      <td>1.63</td>\n",
       "      <td>1.63</td>\n",
       "      <td>0.9281</td>\n",
       "      <td>0.688707</td>\n",
       "      <td>0.930301</td>\n",
       "      <td>1.121401</td>\n",
       "      <td>1.0374</td>\n",
       "      <td>0.122356</td>\n",
       "      <td>0.121254</td>\n",
       "      <td>0.0683</td>\n",
       "    </tr>\n",
       "    <tr>\n",
       "      <th>3</th>\n",
       "      <td>1960-04-01</td>\n",
       "      <td>1.63</td>\n",
       "      <td>1.63</td>\n",
       "      <td>0.9303</td>\n",
       "      <td>0.684519</td>\n",
       "      <td>0.930301</td>\n",
       "      <td>1.121401</td>\n",
       "      <td>1.0374</td>\n",
       "      <td>0.122356</td>\n",
       "      <td>0.123459</td>\n",
       "      <td>0.0681</td>\n",
       "    </tr>\n",
       "    <tr>\n",
       "      <th>4</th>\n",
       "      <td>1960-05-01</td>\n",
       "      <td>1.63</td>\n",
       "      <td>1.63</td>\n",
       "      <td>0.9200</td>\n",
       "      <td>0.690692</td>\n",
       "      <td>0.930301</td>\n",
       "      <td>1.121401</td>\n",
       "      <td>1.0374</td>\n",
       "      <td>0.122356</td>\n",
       "      <td>0.121254</td>\n",
       "      <td>0.0683</td>\n",
       "    </tr>\n",
       "  </tbody>\n",
       "</table>\n",
       "</div>"
      ],
      "text/plain": [
       "         date  oil_brent  oil_dubai  coffee_arabica  coffee_robustas  \\\n",
       "0  1960-01-01       1.63       1.63          0.9409         0.696864   \n",
       "1  1960-02-01       1.63       1.63          0.9469         0.688707   \n",
       "2  1960-03-01       1.63       1.63          0.9281         0.688707   \n",
       "3  1960-04-01       1.63       1.63          0.9303         0.684519   \n",
       "4  1960-05-01       1.63       1.63          0.9200         0.690692   \n",
       "\n",
       "   tea_columbo  tea_kolkata  tea_mombasa  sugar_eu  sugar_us  sugar_world  \n",
       "0     0.930301     1.121401       1.0374  0.122356  0.116845       0.0666  \n",
       "1     0.930301     1.121401       1.0374  0.122356  0.119049       0.0679  \n",
       "2     0.930301     1.121401       1.0374  0.122356  0.121254       0.0683  \n",
       "3     0.930301     1.121401       1.0374  0.122356  0.123459       0.0681  \n",
       "4     0.930301     1.121401       1.0374  0.122356  0.121254       0.0683  "
      ]
     },
     "execution_count": 15,
     "metadata": {},
     "output_type": "execute_result"
    }
   ],
   "source": [
    "from kagglehub import KaggleDatasetAdapter\n",
    "\n",
    "# Load the latest version\n",
    "df = pd.read_csv(\"./datasets/commodity_prices.csv\")\n",
    "\n",
    "df.drop(columns=[\"Unnamed: 0\"], inplace=True)\n",
    "\n",
    "df.head()"
   ]
  },
  {
   "cell_type": "code",
   "execution_count": 16,
   "id": "b9ae5e75",
   "metadata": {},
   "outputs": [
    {
     "name": "stdout",
     "output_type": "stream",
     "text": [
      "date         0\n",
      "oil_dubai    0\n",
      "dtype: int64\n"
     ]
    },
    {
     "data": {
      "text/html": [
       "<div>\n",
       "<style scoped>\n",
       "    .dataframe tbody tr th:only-of-type {\n",
       "        vertical-align: middle;\n",
       "    }\n",
       "\n",
       "    .dataframe tbody tr th {\n",
       "        vertical-align: top;\n",
       "    }\n",
       "\n",
       "    .dataframe thead th {\n",
       "        text-align: right;\n",
       "    }\n",
       "</style>\n",
       "<table border=\"1\" class=\"dataframe\">\n",
       "  <thead>\n",
       "    <tr style=\"text-align: right;\">\n",
       "      <th></th>\n",
       "      <th>date</th>\n",
       "      <th>oil_dubai</th>\n",
       "    </tr>\n",
       "  </thead>\n",
       "  <tbody>\n",
       "    <tr>\n",
       "      <th>0</th>\n",
       "      <td>1960-01-01</td>\n",
       "      <td>1.63</td>\n",
       "    </tr>\n",
       "    <tr>\n",
       "      <th>1</th>\n",
       "      <td>1960-02-01</td>\n",
       "      <td>1.63</td>\n",
       "    </tr>\n",
       "    <tr>\n",
       "      <th>2</th>\n",
       "      <td>1960-03-01</td>\n",
       "      <td>1.63</td>\n",
       "    </tr>\n",
       "    <tr>\n",
       "      <th>3</th>\n",
       "      <td>1960-04-01</td>\n",
       "      <td>1.63</td>\n",
       "    </tr>\n",
       "    <tr>\n",
       "      <th>4</th>\n",
       "      <td>1960-05-01</td>\n",
       "      <td>1.63</td>\n",
       "    </tr>\n",
       "    <tr>\n",
       "      <th>...</th>\n",
       "      <td>...</td>\n",
       "      <td>...</td>\n",
       "    </tr>\n",
       "    <tr>\n",
       "      <th>751</th>\n",
       "      <td>2022-08-01</td>\n",
       "      <td>97.75</td>\n",
       "    </tr>\n",
       "    <tr>\n",
       "      <th>752</th>\n",
       "      <td>2022-09-01</td>\n",
       "      <td>90.63</td>\n",
       "    </tr>\n",
       "    <tr>\n",
       "      <th>753</th>\n",
       "      <td>2022-10-01</td>\n",
       "      <td>90.59</td>\n",
       "    </tr>\n",
       "    <tr>\n",
       "      <th>754</th>\n",
       "      <td>2022-11-01</td>\n",
       "      <td>86.28</td>\n",
       "    </tr>\n",
       "    <tr>\n",
       "      <th>755</th>\n",
       "      <td>2022-12-01</td>\n",
       "      <td>76.78</td>\n",
       "    </tr>\n",
       "  </tbody>\n",
       "</table>\n",
       "<p>756 rows × 2 columns</p>\n",
       "</div>"
      ],
      "text/plain": [
       "           date  oil_dubai\n",
       "0    1960-01-01       1.63\n",
       "1    1960-02-01       1.63\n",
       "2    1960-03-01       1.63\n",
       "3    1960-04-01       1.63\n",
       "4    1960-05-01       1.63\n",
       "..          ...        ...\n",
       "751  2022-08-01      97.75\n",
       "752  2022-09-01      90.63\n",
       "753  2022-10-01      90.59\n",
       "754  2022-11-01      86.28\n",
       "755  2022-12-01      76.78\n",
       "\n",
       "[756 rows x 2 columns]"
      ]
     },
     "execution_count": 16,
     "metadata": {},
     "output_type": "execute_result"
    }
   ],
   "source": [
    "df_oil = df[['date','oil_dubai']]\n",
    "\n",
    "\n",
    "print(df_oil.isna().sum())\n",
    "\n",
    "df_oil\n"
   ]
  },
  {
   "cell_type": "code",
   "execution_count": 17,
   "id": "051ba889",
   "metadata": {},
   "outputs": [
    {
     "data": {
      "image/png": "[encoded data removed]",
      "text/plain": [
       "<Figure size 1200x600 with 1 Axes>"
      ]
     },
     "metadata": {},
     "output_type": "display_data"
    }
   ],
   "source": [
    "# Convert date column to datetime\n",
    "df_oil['date'] = pd.to_datetime(df_oil['date'])\n",
    "\n",
    "# Resample by year and take the mean\n",
    "df_oil_yearly = df_oil.set_index('date').resample('Y').mean().reset_index()\n",
    "\n",
    "plt.figure(figsize=(12, 6))\n",
    "plt.plot(df_oil_yearly['date'], df_oil_yearly['oil_dubai'], marker='o', linewidth=2, markersize=6)\n",
    "plt.title('Oil Price by Year (Annual Average)')\n",
    "plt.xlabel('Year')\n",
    "plt.ylabel('Price')\n",
    "plt.grid(True, alpha=0.3)\n",
    "plt.xticks(rotation=45)\n",
    "plt.tight_layout()\n",
    "plt.show()"
   ]
  },
  {
   "cell_type": "markdown",
   "id": "caa7a08e",
   "metadata": {},
   "source": [
    "##### This clearly shows that the data is not stationary, but just to verify, let us perform the ADF Test"
   ]
  },
  {
   "cell_type": "code",
   "execution_count": 18,
   "id": "ef10e3e7",
   "metadata": {},
   "outputs": [
    {
     "data": {
      "text/plain": [
       "(np.float64(1.3412481350312089),\n",
       " np.float64(0.996830190140221),\n",
       " 9,\n",
       " 53,\n",
       " {'1%': np.float64(-3.560242358792829),\n",
       "  '5%': np.float64(-2.9178502070837),\n",
       "  '10%': np.float64(-2.5967964150943397)},\n",
       " np.float64(410.5098907663314))"
      ]
     },
     "execution_count": 18,
     "metadata": {},
     "output_type": "execute_result"
    }
   ],
   "source": [
    "adf_results =sm.tsa.stattools.adfuller(\n",
    "    df_oil_yearly['oil_dubai'],\n",
    "    maxlag=10,\n",
    "    regression='c',\n",
    "    autolag='AIC',\n",
    "    store=False,\n",
    "    regresults=False\n",
    "    )\n",
    "\n",
    "\n",
    "# adfuller returns 5 values:\n",
    "# 1. The test statistic\n",
    "# 2. The p-value\n",
    "# 3. The number of lags used\n",
    "# 4. The number of observations used for the ADF regression and the critical values for the test statistic.\n",
    "\n",
    "\n",
    "adf_results\n",
    "\n"
   ]
  },
  {
   "cell_type": "markdown",
   "id": "e24b1651",
   "metadata": {},
   "source": [
    "#### Since we compare the t-statistic (1.34), with all the critical values, we find that it is significantly larger than all of them, meaning we fail to reject H0, proving that the data is non-stationary! (Not to mention the extremely large p-val)"
   ]
  },
  {
   "cell_type": "code",
   "execution_count": 19,
   "id": "1123a331",
   "metadata": {},
   "outputs": [
    {
     "ename": "TypeError",
     "evalue": "'NoneType' object is not subscriptable",
     "output_type": "error",
     "traceback": [
      "\u001b[31m---------------------------------------------------------------------------\u001b[39m",
      "\u001b[31mTypeError\u001b[39m                                 Traceback (most recent call last)",
      "\u001b[36mCell\u001b[39m\u001b[36m \u001b[39m\u001b[32mIn[19]\u001b[39m\u001b[32m, line 6\u001b[39m\n\u001b[32m      1\u001b[39m df_oil_yearly[\u001b[33m'\u001b[39m\u001b[33moil_dubai_returns\u001b[39m\u001b[33m'\u001b[39m] = np.log(df_oil_yearly[\u001b[33m'\u001b[39m\u001b[33moil_dubai\u001b[39m\u001b[33m'\u001b[39m] / df_oil_yearly[\u001b[33m'\u001b[39m\u001b[33moil_dubai\u001b[39m\u001b[33m'\u001b[39m].shift(\u001b[32m1\u001b[39m))\n\u001b[32m      3\u001b[39m df_oil_yearly = df_oil_yearly[\u001b[33m'\u001b[39m\u001b[33moil_dubai_returns\u001b[39m\u001b[33m'\u001b[39m].fillna(\u001b[32m0\u001b[39m, inplace=\u001b[38;5;28;01mTrue\u001b[39;00m)\n\u001b[32m----> \u001b[39m\u001b[32m6\u001b[39m \u001b[43mdf_oil_yearly\u001b[49m\u001b[43m[\u001b[49m\u001b[33;43m'\u001b[39;49m\u001b[33;43moil_dubai_returns\u001b[39;49m\u001b[33;43m'\u001b[39;49m\u001b[43m]\u001b[49m.head()\n",
      "\u001b[31mTypeError\u001b[39m: 'NoneType' object is not subscriptable"
     ]
    }
   ],
   "source": [
    "df_oil_yearly['oil_dubai_returns'] = np.log(df_oil_yearly['oil_dubai'] / df_oil_yearly['oil_dubai'].shift(1))\n",
    "\n",
    "df_oil_yearly = df_oil_yearly['oil_dubai_returns'].fillna(0, inplace=True)\n",
    "\n",
    "\n",
    "df_oil_yearly['oil_dubai_returns'].head()\n",
    "\n",
    "\n",
    "\n",
    "\n"
   ]
  }
 ],
 "metadata": {
  "kernelspec": {
   "display_name": ".venv",
   "language": "python",
   "name": "python3"
  },
  "language_info": {
   "codemirror_mode": {
    "name": "ipython",
    "version": 3
   },
   "file_extension": ".py",
   "mimetype": "text/x-python",
   "name": "python",
   "nbconvert_exporter": "python",
   "pygments_lexer": "ipython3",
   "version": "3.11.9"
  }
 },
 "nbformat": 4,
 "nbformat_minor": 5
}
